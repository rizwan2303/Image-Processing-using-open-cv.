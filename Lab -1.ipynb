{
 "cells": [
  {
   "cell_type": "markdown",
   "metadata": {},
   "source": [
    "# LAb-1: Load and Display an image using open-cv. Also perform the following operations: Split,Merge,Resize,add,add weighted & Region of interest."
   ]
  },
  {
   "cell_type": "code",
   "execution_count": 47,
   "metadata": {},
   "outputs": [
    {
     "name": "stdout",
     "output_type": "stream",
     "text": [
      "(342, 548, 3)\n",
      "uint8\n",
      "562248\n"
     ]
    }
   ],
   "source": [
    "import cv2\n",
    "import numpy as np\n",
    "\n",
    "img = cv2.imread('messi5.jpg')               # Read 'messi5.jpg' image\n",
    "img2 = cv2.imread('opencv-logo.png')         # Read 'opencv-logo.png' image\n",
    "\n",
    "cv2.imshow('image1', img)                    # Display 'messi5.jpg' image\n",
    "cv2.imshow('image2', img2)                   # Display 'opencv-logo.png' image\n",
    "cv2.waitKey(0)\n",
    "cv2.destroyAllWindows()\n",
    "\n",
    "\n",
    "\n",
    "print(img.shape)        # Returns the shape\n",
    "print(img.dtype)        # Returns the data type of pixel values\n",
    "print(img.size)         # Returns size = total number of pixels\n",
    "\n"
   ]
  },
  {
   "cell_type": "markdown",
   "metadata": {},
   "source": [
    "# Split Image into Blue, Gree and Red pixel components."
   ]
  },
  {
   "cell_type": "code",
   "execution_count": 46,
   "metadata": {},
   "outputs": [],
   "source": [
    "b,g,r = cv2.split(img)\n",
    "\n",
    "# check the values by print(b), print(g) and print(r)"
   ]
  },
  {
   "cell_type": "markdown",
   "metadata": {},
   "source": [
    "# Merge the B,G and R pixel components together"
   ]
  },
  {
   "cell_type": "code",
   "execution_count": null,
   "metadata": {},
   "outputs": [],
   "source": [
    "img = cv2.merge((b,g,r))\n",
    "\n",
    "# Check it print(img)\n"
   ]
  },
  {
   "cell_type": "markdown",
   "metadata": {},
   "source": [
    "# Resize the image and check the nodified size"
   ]
  },
  {
   "cell_type": "code",
   "execution_count": 48,
   "metadata": {},
   "outputs": [
    {
     "name": "stdout",
     "output_type": "stream",
     "text": [
      "(512, 512, 3)\n"
     ]
    }
   ],
   "source": [
    "img = cv2.resize(img,(512,512))\n",
    "img2 = cv2.resize(img2,(512,512))\n",
    "\n",
    "print(img.shape)\n",
    "print(img.shape2)\n"
   ]
  },
  {
   "cell_type": "markdown",
   "metadata": {},
   "source": [
    "# Add two images (for adding two images they should be of same size)"
   ]
  },
  {
   "cell_type": "code",
   "execution_count": 54,
   "metadata": {},
   "outputs": [],
   "source": [
    "img_add = cv2.add(img,img2)\n",
    "cv2.imshow('added_image', img_add)\n",
    "cv2.waitKey(0)\n",
    "cv2.destroyAllWindows()\n",
    "\n"
   ]
  },
  {
   "cell_type": "markdown",
   "metadata": {},
   "source": [
    "# Adding two images by assigning them different weights"
   ]
  },
  {
   "cell_type": "code",
   "execution_count": null,
   "metadata": {},
   "outputs": [],
   "source": [
    "# assigned 70% weight to 'messi5.jpg' & 30% to 'opencv-logo.png'\n",
    "img_wei_add = cv2.addWeighted(img,.7,img2,.3,1) \n",
    "cv2.imshow('wei_add_image', img_wei_add)\n",
    "cv2.waitKey(0)\n",
    "cv2.destroyAllWindows()"
   ]
  },
  {
   "cell_type": "code",
   "execution_count": null,
   "metadata": {},
   "outputs": [],
   "source": []
  }
 ],
 "metadata": {
  "kernelspec": {
   "display_name": "Python 3",
   "language": "python",
   "name": "python3"
  },
  "language_info": {
   "codemirror_mode": {
    "name": "ipython",
    "version": 3
   },
   "file_extension": ".py",
   "mimetype": "text/x-python",
   "name": "python",
   "nbconvert_exporter": "python",
   "pygments_lexer": "ipython3",
   "version": "3.7.6"
  }
 },
 "nbformat": 4,
 "nbformat_minor": 2
}
